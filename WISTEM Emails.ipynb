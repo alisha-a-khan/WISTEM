{
 "cells": [
  {
   "cell_type": "code",
   "execution_count": 9,
   "metadata": {},
   "outputs": [],
   "source": [
    "import re\n",
    "import requests\n",
    "import pandas as pd"
   ]
  },
  {
   "cell_type": "code",
   "execution_count": 10,
   "metadata": {},
   "outputs": [
    {
     "name": "stdout",
     "output_type": "stream",
     "text": [
      "Type one of these values below to select the college/institute:\n",
      "\n",
      "Armour College of Engineering\n",
      "Chicago-Kent College of Law\n",
      "College of Architecture\n",
      "College of Computing\n",
      "College of Science\n",
      "General Studies\n",
      "Institute of Design\n",
      "Lewis College of Human Sciences\n",
      "Lewis College of Science and Letters\n",
      "School of Applied Technology\n",
      "Stuart School of Business\n",
      "All Colleges and Institutes\n",
      "\n",
      "lewis college of science and letters\n"
     ]
    }
   ],
   "source": [
    "#values to select the different colleges/institutes in the URL (college of engineering, college of computing, etc.)\n",
    "college_dict={\n",
    "    \"Armour College of Engineering\": 161,\n",
    "    \"Chicago-Kent College of Law\": 2876,\n",
    "    \"College of Architecture\": 2901,\n",
    "    \"College of Computing\": 54491,\n",
    "    \"College of Science\": 761,\n",
    "    \"General Studies\": 42236,\n",
    "    \"Institute of Design\": 2906,\n",
    "    \"Lewis College of Human Sciences\": 781,\n",
    "    \"Lewis College of Science and Letters\": 54546,\n",
    "    \"School of Applied Technology\": 3081,\n",
    "    \"Stuart School of Business\": 821,\n",
    "    \"All Colleges and Institutes\": \"All\"\n",
    "}\n",
    "\n",
    "print(\"Type one of these values below to select the college/institute:\\n\")\n",
    "\n",
    "\n",
    "for key in college_dict:\n",
    "    print (key)\n",
    "    \n",
    "print(\"\")\n",
    "college=input()\n",
    "college_dict =  {k.lower(): v for k, v in college_dict.items()}\n",
    "college_val=college_dict[college]"
   ]
  },
  {
   "cell_type": "code",
   "execution_count": 11,
   "metadata": {},
   "outputs": [
    {
     "name": "stdout",
     "output_type": "stream",
     "text": [
      "Type one of these values below to select the department:\n",
      "\n",
      "Applied Math\n",
      "Biology\n",
      "Biomedical Engineering\n",
      "Chemical and Biological Engineering\n",
      "Chemistry\n",
      "Civil, Architectural, and Environmental Engineering\n",
      "Computer Science\n",
      "Ed Kaplan Institute for Innovation and Tech Entrepreneurship\n",
      "Electrical and Computer Engineering\n",
      "Industrial Technology and Management\n",
      "Information Technology and Management\n",
      "Mechanical, Materials, and Aerospace Engineering\n",
      "Psychology\n",
      "Physics\n",
      "Pritzker Institute of Biomedical Science and Engineering\n",
      "Social Sciences\n",
      "All Departments\n",
      "\n",
      "all departments\n"
     ]
    }
   ],
   "source": [
    "#values to select the different departments in the URL (applied math, biology, etc.)\n",
    "dept_dict={\n",
    "    \"Applied Math\": 2281,\n",
    "    \"Biology\": 2286,\n",
    "    \"Biomedical Engineering\": 2256,\n",
    "    \"Chemical and Biological Engineering\": 2261,\n",
    "    \"Chemistry\": 2291,\n",
    "    \"Civil, Architectural, and Environmental Engineering\": 2266,\n",
    "    \"Computer Science\": 2296,\n",
    "    \"Ed Kaplan Institute for Innovation and Tech Entrepreneurship\": 41616,\n",
    "    \"Electrical and Computer Engineering\": 2271,\n",
    "    \"Industrial Technology and Management\": 2336,\n",
    "    \"Information Technology and Management\": 2341,\n",
    "    \"Mechanical, Materials, and Aerospace Engineering\": 2276,\n",
    "    \"Psychology\": 2316,\n",
    "    \"Physics\": 2306,\n",
    "    \"Pritzker Institute of Biomedical Science and Engineering\": 41656,\n",
    "    \"Social Sciences\": 2321,\n",
    "    \"All Departments\": \"All\"\n",
    "}\n",
    "\n",
    "print(\"Type one of these values below to select the department:\\n\")\n",
    "\n",
    "\n",
    "for key in dept_dict:\n",
    "    print (key)\n",
    "    \n",
    "print(\"\")\n",
    "dept=input()\n",
    "dept_dict =  {k.lower(): v for k, v in dept_dict.items()}\n",
    "dept_val=dept_dict[dept]"
   ]
  },
  {
   "cell_type": "code",
   "execution_count": 12,
   "metadata": {},
   "outputs": [
    {
     "name": "stdout",
     "output_type": "stream",
     "text": [
      "Type one of these values below to select the profile type:\n",
      "\n",
      "Faculty\n",
      "Media Expert\n",
      "Staff\n",
      "All Profile Types\n",
      "\n",
      "faculty\n"
     ]
    }
   ],
   "source": [
    "#values to select the different profile types in the URL (faculty, staff, etc.)\n",
    "profile_dict={\n",
    "    \"Faculty\": 21,\n",
    "    \"Media Expert\": 241,\n",
    "    \"Staff\": 26,\n",
    "    \"All Profile Types\": \"All\"\n",
    "}\n",
    "\n",
    "print(\"Type one of these values below to select the profile type:\\n\")\n",
    "\n",
    "\n",
    "for key in profile_dict:\n",
    "    print (key)\n",
    "    \n",
    "print(\"\")\n",
    "profile=input()\n",
    "profile_dict =  {k.lower(): v for k, v in profile_dict.items()}\n",
    "profile_val=profile_dict[profile]"
   ]
  },
  {
   "cell_type": "code",
   "execution_count": 13,
   "metadata": {},
   "outputs": [],
   "source": [
    "page=0"
   ]
  },
  {
   "cell_type": "code",
   "execution_count": 14,
   "metadata": {},
   "outputs": [],
   "source": [
    "emails=set()"
   ]
  },
  {
   "cell_type": "code",
   "execution_count": 15,
   "metadata": {},
   "outputs": [],
   "source": [
    "for x in range(200):\n",
    "    \n",
    "    page=x\n",
    "    url=f\"https://www.iit.edu/directory/people?school={college_val}&profile_type={profile_val}&organization={dept_val}&search=&last_name=&page={page}\"\n",
    "    try:\n",
    "        response = requests.get(url)\n",
    "    except (requests.exceptions.MissingSchema, requests.exceptions.ConnectionError):\n",
    "        continue\n",
    "    new_emails = set(re.findall(r\"[a-z0-9\\.\\-+_]+@[a-z0-9\\.\\-+_]+\\.edu\", response.text, re.I))\n",
    "    if not new_emails:\n",
    "        break\n",
    "    emails.update(new_emails)\n",
    "    new_emails=set()\n",
    "    \n",
    "    \n",
    "    \n",
    "    "
   ]
  },
  {
   "cell_type": "code",
   "execution_count": 16,
   "metadata": {},
   "outputs": [],
   "source": [
    "df = pd.DataFrame(emails, columns=[\"Email\"])\n",
    "fileName=f\"{college}_{dept}_{profile}.csv\"\n",
    "df.to_csv(fileName, index=False)\n"
   ]
  },
  {
   "cell_type": "code",
   "execution_count": null,
   "metadata": {},
   "outputs": [],
   "source": []
  },
  {
   "cell_type": "code",
   "execution_count": null,
   "metadata": {},
   "outputs": [],
   "source": []
  },
  {
   "cell_type": "code",
   "execution_count": null,
   "metadata": {},
   "outputs": [],
   "source": []
  }
 ],
 "metadata": {
  "kernelspec": {
   "display_name": "Python 3",
   "language": "python",
   "name": "python3"
  },
  "language_info": {
   "codemirror_mode": {
    "name": "ipython",
    "version": 3
   },
   "file_extension": ".py",
   "mimetype": "text/x-python",
   "name": "python",
   "nbconvert_exporter": "python",
   "pygments_lexer": "ipython3",
   "version": "3.7.7"
  }
 },
 "nbformat": 4,
 "nbformat_minor": 4
}
